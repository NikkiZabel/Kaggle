{
 "cells": [
  {
   "cell_type": "markdown",
   "id": "5f79b1f4",
   "metadata": {
    "papermill": {
     "duration": 0.004866,
     "end_time": "2025-04-03T10:41:50.895812",
     "exception": false,
     "start_time": "2025-04-03T10:41:50.890946",
     "status": "completed"
    },
    "tags": []
   },
   "source": [
    "**This notebook is an exercise in the [Introduction to Machine Learning](https://www.kaggle.com/learn/intro-to-machine-learning) course.  You can reference the tutorial at [this link](https://www.kaggle.com/dansbecker/your-first-machine-learning-model).**\n",
    "\n",
    "---\n"
   ]
  },
  {
   "cell_type": "markdown",
   "id": "6c15f4be",
   "metadata": {
    "papermill": {
     "duration": 0.003896,
     "end_time": "2025-04-03T10:41:50.904198",
     "exception": false,
     "start_time": "2025-04-03T10:41:50.900302",
     "status": "completed"
    },
    "tags": []
   },
   "source": [
    "## Recap\n",
    "So far, you have loaded your data and reviewed it with the following code. Run this cell to set up your coding environment where the previous step left off."
   ]
  },
  {
   "cell_type": "code",
   "execution_count": 1,
   "id": "90181567",
   "metadata": {
    "execution": {
     "iopub.execute_input": "2025-04-03T10:41:50.914386Z",
     "iopub.status.busy": "2025-04-03T10:41:50.913890Z",
     "iopub.status.idle": "2025-04-03T10:41:53.690168Z",
     "shell.execute_reply": "2025-04-03T10:41:53.689098Z"
    },
    "papermill": {
     "duration": 2.78326,
     "end_time": "2025-04-03T10:41:53.691786",
     "exception": false,
     "start_time": "2025-04-03T10:41:50.908526",
     "status": "completed"
    },
    "tags": []
   },
   "outputs": [
    {
     "name": "stdout",
     "output_type": "stream",
     "text": [
      "Setup Complete\n"
     ]
    }
   ],
   "source": [
    "# Code you have previously used to load data\n",
    "import pandas as pd\n",
    "\n",
    "# Path of the file to read\n",
    "iowa_file_path = '../input/home-data-for-ml-course/train.csv'\n",
    "\n",
    "home_data = pd.read_csv(iowa_file_path)\n",
    "\n",
    "# Set up code checking\n",
    "from learntools.core import binder\n",
    "binder.bind(globals())\n",
    "from learntools.machine_learning.ex3 import *\n",
    "\n",
    "print(\"Setup Complete\")"
   ]
  },
  {
   "cell_type": "markdown",
   "id": "f9697fff",
   "metadata": {
    "papermill": {
     "duration": 0.004135,
     "end_time": "2025-04-03T10:41:53.700436",
     "exception": false,
     "start_time": "2025-04-03T10:41:53.696301",
     "status": "completed"
    },
    "tags": []
   },
   "source": [
    "# Exercises\n",
    "\n",
    "## Step 1: Specify Prediction Target\n",
    "Select the target variable, which corresponds to the sales price. Save this to a new variable called `y`. You'll need to print a list of the columns to find the name of the column you need.\n"
   ]
  },
  {
   "cell_type": "code",
   "execution_count": 2,
   "id": "f1def529",
   "metadata": {
    "execution": {
     "iopub.execute_input": "2025-04-03T10:41:53.710282Z",
     "iopub.status.busy": "2025-04-03T10:41:53.709792Z",
     "iopub.status.idle": "2025-04-03T10:41:53.716535Z",
     "shell.execute_reply": "2025-04-03T10:41:53.715715Z"
    },
    "papermill": {
     "duration": 0.01327,
     "end_time": "2025-04-03T10:41:53.717959",
     "exception": false,
     "start_time": "2025-04-03T10:41:53.704689",
     "status": "completed"
    },
    "tags": []
   },
   "outputs": [
    {
     "data": {
      "text/plain": [
       "Index(['Id', 'MSSubClass', 'MSZoning', 'LotFrontage', 'LotArea', 'Street',\n",
       "       'Alley', 'LotShape', 'LandContour', 'Utilities', 'LotConfig',\n",
       "       'LandSlope', 'Neighborhood', 'Condition1', 'Condition2', 'BldgType',\n",
       "       'HouseStyle', 'OverallQual', 'OverallCond', 'YearBuilt', 'YearRemodAdd',\n",
       "       'RoofStyle', 'RoofMatl', 'Exterior1st', 'Exterior2nd', 'MasVnrType',\n",
       "       'MasVnrArea', 'ExterQual', 'ExterCond', 'Foundation', 'BsmtQual',\n",
       "       'BsmtCond', 'BsmtExposure', 'BsmtFinType1', 'BsmtFinSF1',\n",
       "       'BsmtFinType2', 'BsmtFinSF2', 'BsmtUnfSF', 'TotalBsmtSF', 'Heating',\n",
       "       'HeatingQC', 'CentralAir', 'Electrical', '1stFlrSF', '2ndFlrSF',\n",
       "       'LowQualFinSF', 'GrLivArea', 'BsmtFullBath', 'BsmtHalfBath', 'FullBath',\n",
       "       'HalfBath', 'BedroomAbvGr', 'KitchenAbvGr', 'KitchenQual',\n",
       "       'TotRmsAbvGrd', 'Functional', 'Fireplaces', 'FireplaceQu', 'GarageType',\n",
       "       'GarageYrBlt', 'GarageFinish', 'GarageCars', 'GarageArea', 'GarageQual',\n",
       "       'GarageCond', 'PavedDrive', 'WoodDeckSF', 'OpenPorchSF',\n",
       "       'EnclosedPorch', '3SsnPorch', 'ScreenPorch', 'PoolArea', 'PoolQC',\n",
       "       'Fence', 'MiscFeature', 'MiscVal', 'MoSold', 'YrSold', 'SaleType',\n",
       "       'SaleCondition', 'SalePrice'],\n",
       "      dtype='object')"
      ]
     },
     "execution_count": 2,
     "metadata": {},
     "output_type": "execute_result"
    }
   ],
   "source": [
    "# print the list of columns in the dataset to find the name of the prediction target\n",
    "home_data.columns"
   ]
  },
  {
   "cell_type": "code",
   "execution_count": 3,
   "id": "093622c0",
   "metadata": {
    "execution": {
     "iopub.execute_input": "2025-04-03T10:41:53.728469Z",
     "iopub.status.busy": "2025-04-03T10:41:53.728098Z",
     "iopub.status.idle": "2025-04-03T10:41:53.739723Z",
     "shell.execute_reply": "2025-04-03T10:41:53.738891Z"
    },
    "papermill": {
     "duration": 0.018244,
     "end_time": "2025-04-03T10:41:53.741154",
     "exception": false,
     "start_time": "2025-04-03T10:41:53.722910",
     "status": "completed"
    },
    "tags": []
   },
   "outputs": [
    {
     "data": {
      "application/javascript": [
       "parent.postMessage({\"jupyterEvent\": \"custom.exercise_interaction\", \"data\": {\"outcomeType\": 1, \"valueTowardsCompletion\": 0.25, \"interactionType\": 1, \"questionType\": 2, \"questionId\": \"1_SetTarget\", \"learnToolsVersion\": \"0.3.4\", \"failureMessage\": \"\", \"exceptionClass\": \"\", \"trace\": \"\"}}, \"*\")"
      ],
      "text/plain": [
       "<IPython.core.display.Javascript object>"
      ]
     },
     "metadata": {},
     "output_type": "display_data"
    },
    {
     "data": {
      "text/markdown": [
       "<span style=\"color:#33cc33\">Correct</span>"
      ],
      "text/plain": [
       "Correct"
      ]
     },
     "metadata": {},
     "output_type": "display_data"
    }
   ],
   "source": [
    "y = home_data['SalePrice']\n",
    "\n",
    "# Check your answer\n",
    "step_1.check()"
   ]
  },
  {
   "cell_type": "code",
   "execution_count": 4,
   "id": "b09c1de9",
   "metadata": {
    "execution": {
     "iopub.execute_input": "2025-04-03T10:41:53.751905Z",
     "iopub.status.busy": "2025-04-03T10:41:53.751581Z",
     "iopub.status.idle": "2025-04-03T10:41:53.755229Z",
     "shell.execute_reply": "2025-04-03T10:41:53.754246Z"
    },
    "papermill": {
     "duration": 0.010871,
     "end_time": "2025-04-03T10:41:53.756803",
     "exception": false,
     "start_time": "2025-04-03T10:41:53.745932",
     "status": "completed"
    },
    "tags": []
   },
   "outputs": [],
   "source": [
    "# The lines below will show you a hint or the solution.\n",
    "# step_1.hint() \n",
    "# step_1.solution()"
   ]
  },
  {
   "cell_type": "markdown",
   "id": "8ee89f0a",
   "metadata": {
    "papermill": {
     "duration": 0.004408,
     "end_time": "2025-04-03T10:41:53.765987",
     "exception": false,
     "start_time": "2025-04-03T10:41:53.761579",
     "status": "completed"
    },
    "tags": []
   },
   "source": [
    "## Step 2: Create X\n",
    "Now you will create a DataFrame called `X` holding the predictive features.\n",
    "\n",
    "Since you want only some columns from the original data, you'll first create a list with the names of the columns you want in `X`.\n",
    "\n",
    "You'll use just the following columns in the list (you can copy and paste the whole list to save some typing, though you'll still need to add quotes):\n",
    "  * LotArea\n",
    "  * YearBuilt\n",
    "  * 1stFlrSF\n",
    "  * 2ndFlrSF\n",
    "  * FullBath\n",
    "  * BedroomAbvGr\n",
    "  * TotRmsAbvGrd\n",
    "\n",
    "After you've created that list of features, use it to create the DataFrame that you'll use to fit the model."
   ]
  },
  {
   "cell_type": "code",
   "execution_count": 5,
   "id": "1897f5f3",
   "metadata": {
    "execution": {
     "iopub.execute_input": "2025-04-03T10:41:53.776460Z",
     "iopub.status.busy": "2025-04-03T10:41:53.776094Z",
     "iopub.status.idle": "2025-04-03T10:41:53.786961Z",
     "shell.execute_reply": "2025-04-03T10:41:53.786037Z"
    },
    "papermill": {
     "duration": 0.017697,
     "end_time": "2025-04-03T10:41:53.788364",
     "exception": false,
     "start_time": "2025-04-03T10:41:53.770667",
     "status": "completed"
    },
    "tags": []
   },
   "outputs": [
    {
     "data": {
      "application/javascript": [
       "parent.postMessage({\"jupyterEvent\": \"custom.exercise_interaction\", \"data\": {\"outcomeType\": 1, \"valueTowardsCompletion\": 0.25, \"interactionType\": 1, \"questionType\": 2, \"questionId\": \"2_SelectPredictionData\", \"learnToolsVersion\": \"0.3.4\", \"failureMessage\": \"\", \"exceptionClass\": \"\", \"trace\": \"\"}}, \"*\")"
      ],
      "text/plain": [
       "<IPython.core.display.Javascript object>"
      ]
     },
     "metadata": {},
     "output_type": "display_data"
    },
    {
     "data": {
      "text/markdown": [
       "<span style=\"color:#33cc33\">Correct</span>"
      ],
      "text/plain": [
       "Correct"
      ]
     },
     "metadata": {},
     "output_type": "display_data"
    }
   ],
   "source": [
    "# Create the list of features below\n",
    "feature_names = ['LotArea', 'YearBuilt', '1stFlrSF', '2ndFlrSF', 'FullBath', 'BedroomAbvGr', 'TotRmsAbvGrd']\n",
    "\n",
    "# Select data corresponding to features in feature_names\n",
    "X = home_data[feature_names]\n",
    "\n",
    "# Check your answer\n",
    "step_2.check()"
   ]
  },
  {
   "cell_type": "code",
   "execution_count": 6,
   "id": "c12c50de",
   "metadata": {
    "collapsed": true,
    "execution": {
     "iopub.execute_input": "2025-04-03T10:41:53.799132Z",
     "iopub.status.busy": "2025-04-03T10:41:53.798827Z",
     "iopub.status.idle": "2025-04-03T10:41:53.802369Z",
     "shell.execute_reply": "2025-04-03T10:41:53.801428Z"
    },
    "jupyter": {
     "outputs_hidden": true
    },
    "papermill": {
     "duration": 0.010868,
     "end_time": "2025-04-03T10:41:53.803982",
     "exception": false,
     "start_time": "2025-04-03T10:41:53.793114",
     "status": "completed"
    },
    "tags": []
   },
   "outputs": [],
   "source": [
    "# step_2.hint()\n",
    "# step_2.solution()"
   ]
  },
  {
   "cell_type": "markdown",
   "id": "794b6cec",
   "metadata": {
    "papermill": {
     "duration": 0.004991,
     "end_time": "2025-04-03T10:41:53.813934",
     "exception": false,
     "start_time": "2025-04-03T10:41:53.808943",
     "status": "completed"
    },
    "tags": []
   },
   "source": [
    "## Review Data\n",
    "Before building a model, take a quick look at **X** to verify it looks sensible"
   ]
  },
  {
   "cell_type": "code",
   "execution_count": 7,
   "id": "0989f94c",
   "metadata": {
    "execution": {
     "iopub.execute_input": "2025-04-03T10:41:53.824829Z",
     "iopub.status.busy": "2025-04-03T10:41:53.824495Z",
     "iopub.status.idle": "2025-04-03T10:41:53.856590Z",
     "shell.execute_reply": "2025-04-03T10:41:53.855158Z"
    },
    "papermill": {
     "duration": 0.039422,
     "end_time": "2025-04-03T10:41:53.858160",
     "exception": false,
     "start_time": "2025-04-03T10:41:53.818738",
     "status": "completed"
    },
    "tags": []
   },
   "outputs": [
    {
     "name": "stdout",
     "output_type": "stream",
     "text": [
      "             LotArea    YearBuilt     1stFlrSF     2ndFlrSF     FullBath  \\\n",
      "count    1460.000000  1460.000000  1460.000000  1460.000000  1460.000000   \n",
      "mean    10516.828082  1971.267808  1162.626712   346.992466     1.565068   \n",
      "std      9981.264932    30.202904   386.587738   436.528436     0.550916   \n",
      "min      1300.000000  1872.000000   334.000000     0.000000     0.000000   \n",
      "25%      7553.500000  1954.000000   882.000000     0.000000     1.000000   \n",
      "50%      9478.500000  1973.000000  1087.000000     0.000000     2.000000   \n",
      "75%     11601.500000  2000.000000  1391.250000   728.000000     2.000000   \n",
      "max    215245.000000  2010.000000  4692.000000  2065.000000     3.000000   \n",
      "\n",
      "       BedroomAbvGr  TotRmsAbvGrd  \n",
      "count   1460.000000   1460.000000  \n",
      "mean       2.866438      6.517808  \n",
      "std        0.815778      1.625393  \n",
      "min        0.000000      2.000000  \n",
      "25%        2.000000      5.000000  \n",
      "50%        3.000000      6.000000  \n",
      "75%        3.000000      7.000000  \n",
      "max        8.000000     14.000000  \n",
      "   LotArea  YearBuilt  1stFlrSF  2ndFlrSF  FullBath  BedroomAbvGr  \\\n",
      "0     8450       2003       856       854         2             3   \n",
      "1     9600       1976      1262         0         2             3   \n",
      "2    11250       2001       920       866         2             3   \n",
      "3     9550       1915       961       756         1             3   \n",
      "4    14260       2000      1145      1053         2             4   \n",
      "\n",
      "   TotRmsAbvGrd  \n",
      "0             8  \n",
      "1             6  \n",
      "2             6  \n",
      "3             7  \n",
      "4             9  \n"
     ]
    }
   ],
   "source": [
    "# Review data\n",
    "# print description or statistics from X\n",
    "print(X.describe())\n",
    "\n",
    "# print the top few lines\n",
    "print(X.head())"
   ]
  },
  {
   "cell_type": "markdown",
   "id": "28414b13",
   "metadata": {
    "papermill": {
     "duration": 0.004698,
     "end_time": "2025-04-03T10:41:53.868062",
     "exception": false,
     "start_time": "2025-04-03T10:41:53.863364",
     "status": "completed"
    },
    "tags": []
   },
   "source": [
    "## Step 3: Specify and Fit Model\n",
    "Create a `DecisionTreeRegressor` and save it iowa_model. Ensure you've done the relevant import from sklearn to run this command.\n",
    "\n",
    "Then fit the model you just created using the data in `X` and `y` that you saved above."
   ]
  },
  {
   "cell_type": "code",
   "execution_count": 8,
   "id": "d3c84d8f",
   "metadata": {
    "execution": {
     "iopub.execute_input": "2025-04-03T10:41:53.879115Z",
     "iopub.status.busy": "2025-04-03T10:41:53.878791Z",
     "iopub.status.idle": "2025-04-03T10:41:53.895756Z",
     "shell.execute_reply": "2025-04-03T10:41:53.894777Z"
    },
    "papermill": {
     "duration": 0.024355,
     "end_time": "2025-04-03T10:41:53.897343",
     "exception": false,
     "start_time": "2025-04-03T10:41:53.872988",
     "status": "completed"
    },
    "tags": []
   },
   "outputs": [
    {
     "data": {
      "application/javascript": [
       "parent.postMessage({\"jupyterEvent\": \"custom.exercise_interaction\", \"data\": {\"outcomeType\": 1, \"valueTowardsCompletion\": 0.25, \"interactionType\": 1, \"questionType\": 2, \"questionId\": \"3_CreateModel\", \"learnToolsVersion\": \"0.3.4\", \"failureMessage\": \"\", \"exceptionClass\": \"\", \"trace\": \"\"}}, \"*\")"
      ],
      "text/plain": [
       "<IPython.core.display.Javascript object>"
      ]
     },
     "metadata": {},
     "output_type": "display_data"
    },
    {
     "data": {
      "text/markdown": [
       "<span style=\"color:#33cc33\">Correct</span>"
      ],
      "text/plain": [
       "Correct"
      ]
     },
     "metadata": {},
     "output_type": "display_data"
    }
   ],
   "source": [
    "from sklearn.tree import DecisionTreeRegressor\n",
    "#specify the model. \n",
    "#For model reproducibility, set a numeric value for random_state when specifying the model\n",
    "iowa_model = DecisionTreeRegressor(random_state=42)\n",
    "\n",
    "# Fit the model\n",
    "iowa_model.fit(X, y)\n",
    "\n",
    "# Check your answer\n",
    "step_3.check()"
   ]
  },
  {
   "cell_type": "code",
   "execution_count": 9,
   "id": "2b86a75a",
   "metadata": {
    "collapsed": true,
    "execution": {
     "iopub.execute_input": "2025-04-03T10:41:53.909012Z",
     "iopub.status.busy": "2025-04-03T10:41:53.908686Z",
     "iopub.status.idle": "2025-04-03T10:41:53.912295Z",
     "shell.execute_reply": "2025-04-03T10:41:53.911315Z"
    },
    "jupyter": {
     "outputs_hidden": true
    },
    "papermill": {
     "duration": 0.011281,
     "end_time": "2025-04-03T10:41:53.913945",
     "exception": false,
     "start_time": "2025-04-03T10:41:53.902664",
     "status": "completed"
    },
    "tags": []
   },
   "outputs": [],
   "source": [
    "# step_3.hint()\n",
    "# step_3.solution()"
   ]
  },
  {
   "cell_type": "markdown",
   "id": "fd18ea9a",
   "metadata": {
    "papermill": {
     "duration": 0.004838,
     "end_time": "2025-04-03T10:41:53.924226",
     "exception": false,
     "start_time": "2025-04-03T10:41:53.919388",
     "status": "completed"
    },
    "tags": []
   },
   "source": [
    "## Step 4: Make Predictions\n",
    "Make predictions with the model's `predict` command using `X` as the data. Save the results to a variable called `predictions`."
   ]
  },
  {
   "cell_type": "code",
   "execution_count": 10,
   "id": "e076c8e5",
   "metadata": {
    "execution": {
     "iopub.execute_input": "2025-04-03T10:41:53.935833Z",
     "iopub.status.busy": "2025-04-03T10:41:53.935482Z",
     "iopub.status.idle": "2025-04-03T10:41:53.947046Z",
     "shell.execute_reply": "2025-04-03T10:41:53.946182Z"
    },
    "papermill": {
     "duration": 0.019154,
     "end_time": "2025-04-03T10:41:53.948576",
     "exception": false,
     "start_time": "2025-04-03T10:41:53.929422",
     "status": "completed"
    },
    "tags": []
   },
   "outputs": [
    {
     "name": "stdout",
     "output_type": "stream",
     "text": [
      "[208500. 181500. 223500. ... 266500. 142125. 147500.]\n"
     ]
    },
    {
     "data": {
      "application/javascript": [
       "parent.postMessage({\"jupyterEvent\": \"custom.exercise_interaction\", \"data\": {\"outcomeType\": 1, \"valueTowardsCompletion\": 0.25, \"interactionType\": 1, \"questionType\": 2, \"questionId\": \"4_MakePredictions\", \"learnToolsVersion\": \"0.3.4\", \"failureMessage\": \"\", \"exceptionClass\": \"\", \"trace\": \"\"}}, \"*\")"
      ],
      "text/plain": [
       "<IPython.core.display.Javascript object>"
      ]
     },
     "metadata": {},
     "output_type": "display_data"
    },
    {
     "data": {
      "text/markdown": [
       "<span style=\"color:#33cc33\">Correct</span>"
      ],
      "text/plain": [
       "Correct"
      ]
     },
     "metadata": {},
     "output_type": "display_data"
    }
   ],
   "source": [
    "predictions = iowa_model.predict(X)\n",
    "print(predictions)\n",
    "\n",
    "# Check your answer\n",
    "step_4.check()"
   ]
  },
  {
   "cell_type": "code",
   "execution_count": 11,
   "id": "4606d1e4",
   "metadata": {
    "collapsed": true,
    "execution": {
     "iopub.execute_input": "2025-04-03T10:41:53.960833Z",
     "iopub.status.busy": "2025-04-03T10:41:53.960352Z",
     "iopub.status.idle": "2025-04-03T10:41:53.964839Z",
     "shell.execute_reply": "2025-04-03T10:41:53.963792Z"
    },
    "jupyter": {
     "outputs_hidden": true
    },
    "papermill": {
     "duration": 0.01229,
     "end_time": "2025-04-03T10:41:53.966349",
     "exception": false,
     "start_time": "2025-04-03T10:41:53.954059",
     "status": "completed"
    },
    "tags": []
   },
   "outputs": [],
   "source": [
    "# step_4.hint()\n",
    "# step_4.solution()"
   ]
  },
  {
   "cell_type": "markdown",
   "id": "d68b2358",
   "metadata": {
    "papermill": {
     "duration": 0.005291,
     "end_time": "2025-04-03T10:41:53.977212",
     "exception": false,
     "start_time": "2025-04-03T10:41:53.971921",
     "status": "completed"
    },
    "tags": []
   },
   "source": [
    "## Think About Your Results\n",
    "\n",
    "Use the `head` method to compare the top few predictions to the actual home values (in `y`) for those same homes. Anything surprising?\n"
   ]
  },
  {
   "cell_type": "code",
   "execution_count": 12,
   "id": "42af1425",
   "metadata": {
    "execution": {
     "iopub.execute_input": "2025-04-03T10:41:53.989321Z",
     "iopub.status.busy": "2025-04-03T10:41:53.988936Z",
     "iopub.status.idle": "2025-04-03T10:41:53.997109Z",
     "shell.execute_reply": "2025-04-03T10:41:53.995994Z"
    },
    "papermill": {
     "duration": 0.016088,
     "end_time": "2025-04-03T10:41:53.998789",
     "exception": false,
     "start_time": "2025-04-03T10:41:53.982701",
     "status": "completed"
    },
    "tags": []
   },
   "outputs": [
    {
     "name": "stdout",
     "output_type": "stream",
     "text": [
      "[208500. 181500. 223500. 140000. 250000. 143000. 307000. 200000. 129900.\n",
      " 118000.]\n",
      "0    208500\n",
      "1    181500\n",
      "2    223500\n",
      "3    140000\n",
      "4    250000\n",
      "5    143000\n",
      "6    307000\n",
      "7    200000\n",
      "8    129900\n",
      "9    118000\n",
      "Name: SalePrice, dtype: int64\n",
      "0    0.0\n",
      "1    0.0\n",
      "2    0.0\n",
      "3    0.0\n",
      "4    0.0\n",
      "5    0.0\n",
      "6    0.0\n",
      "7    0.0\n",
      "8    0.0\n",
      "9    0.0\n",
      "Name: SalePrice, dtype: float64\n"
     ]
    }
   ],
   "source": [
    "# You can write code in this cell\n",
    "print(predictions[:10])\n",
    "print(y.head(10))\n",
    "print(y.head(10) - predictions[:10])\n",
    "\n",
    "# They are surprisingly identical!"
   ]
  },
  {
   "cell_type": "markdown",
   "id": "805d147a",
   "metadata": {
    "papermill": {
     "duration": 0.005296,
     "end_time": "2025-04-03T10:41:54.010031",
     "exception": false,
     "start_time": "2025-04-03T10:41:54.004735",
     "status": "completed"
    },
    "tags": []
   },
   "source": [
    "It's natural to ask how accurate the model's predictions will be and how you can improve that. That will be you're next step.\n",
    "\n",
    "# Keep Going\n",
    "\n",
    "You are ready for **[Model Validation](https://www.kaggle.com/dansbecker/model-validation).**\n"
   ]
  },
  {
   "cell_type": "markdown",
   "id": "a36d4217",
   "metadata": {
    "papermill": {
     "duration": 0.005322,
     "end_time": "2025-04-03T10:41:54.021225",
     "exception": false,
     "start_time": "2025-04-03T10:41:54.015903",
     "status": "completed"
    },
    "tags": []
   },
   "source": [
    "---\n",
    "\n",
    "\n",
    "\n",
    "\n",
    "*Have questions or comments? Visit the [course discussion forum](https://www.kaggle.com/learn/intro-to-machine-learning/discussion) to chat with other learners.*"
   ]
  }
 ],
 "metadata": {
  "kaggle": {
   "accelerator": "none",
   "dataSources": [
    {
     "databundleVersionId": 111096,
     "sourceId": 10211,
     "sourceType": "competition"
    },
    {
     "datasetId": 11167,
     "sourceId": 15520,
     "sourceType": "datasetVersion"
    },
    {
     "datasetId": 2709,
     "sourceId": 38454,
     "sourceType": "datasetVersion"
    }
   ],
   "isGpuEnabled": false,
   "isInternetEnabled": false,
   "language": "python",
   "sourceType": "notebook"
  },
  "kernelspec": {
   "display_name": "Python 3",
   "language": "python",
   "name": "python3"
  },
  "language_info": {
   "codemirror_mode": {
    "name": "ipython",
    "version": 3
   },
   "file_extension": ".py",
   "mimetype": "text/x-python",
   "name": "python",
   "nbconvert_exporter": "python",
   "pygments_lexer": "ipython3",
   "version": "3.10.12"
  },
  "papermill": {
   "default_parameters": {},
   "duration": 6.670171,
   "end_time": "2025-04-03T10:41:54.747702",
   "environment_variables": {},
   "exception": null,
   "input_path": "__notebook__.ipynb",
   "output_path": "__notebook__.ipynb",
   "parameters": {},
   "start_time": "2025-04-03T10:41:48.077531",
   "version": "2.6.0"
  }
 },
 "nbformat": 4,
 "nbformat_minor": 5
}
